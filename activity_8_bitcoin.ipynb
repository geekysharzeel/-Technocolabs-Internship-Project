{
  "nbformat": 4,
  "nbformat_minor": 0,
  "metadata": {
    "colab": {
      "name": "activity_8_bitcoin.ipynb",
      "provenance": [],
      "collapsed_sections": [],
      "authorship_tag": "ABX9TyPcdZQ0ASf8lr4FXvx59wsT",
      "include_colab_link": true
    },
    "kernelspec": {
      "name": "python3",
      "display_name": "Python 3"
    },
    "accelerator": "GPU"
  },
  "cells": [
    {
      "cell_type": "markdown",
      "metadata": {
        "id": "view-in-github",
        "colab_type": "text"
      },
      "source": [
        "<a href=\"https://colab.research.google.com/github/geekysharzeel/-Technocolabs-Internship-Project/blob/main/activity_8_bitcoin.ipynb\" target=\"_parent\"><img src=\"https://colab.research.google.com/assets/colab-badge.svg\" alt=\"Open In Colab\"/></a>"
      ]
    },
    {
      "cell_type": "code",
      "metadata": {
        "id": "5rmxD3ePD3rY",
        "colab": {
          "base_uri": "https://localhost:8080/",
          "height": 34
        },
        "outputId": "aad69dc2-50ca-427e-a4c5-025de9ad6df1"
      },
      "source": [
        "from cryptonic import Model\n",
        "from cryptonic import CoinMarketCap\n",
        "from cryptonic.models import normalizations\n",
        "import pandas as pd\n",
        "from tqdm import tqdm_notebook\n",
        "#!pip install python-binance\n",
        "#from binance.client import Client\n",
        "\n",
        "%autosave 5\n",
        "%matplotlib inline\n"
      ],
      "execution_count": 61,
      "outputs": [
        {
          "output_type": "display_data",
          "data": {
            "application/javascript": [
              "IPython.notebook.set_autosave_interval(5000)"
            ]
          },
          "metadata": {
            "tags": []
          }
        },
        {
          "output_type": "stream",
          "text": [
            "Autosaving every 5 seconds\n"
          ],
          "name": "stdout"
        }
      ]
    },
    {
      "cell_type": "code",
      "metadata": {
        "id": "tn7w3Y0zEjCQ",
        "colab": {
          "base_uri": "https://localhost:8080/"
        },
        "outputId": "b4accfe9-d2ba-4ec6-d766-f468df053213"
      },
      "source": [
        "print(CoinMarketCap())"
      ],
      "execution_count": 62,
      "outputs": [
        {
          "output_type": "stream",
          "text": [
            "\n",
            "\n",
            "        Crypto-currency data comes from the website CoinMarketCap.\n",
            "        CoinMarketCap is can be accessed at: https://coinmarketcap.com/\n",
            "\n",
            "        The permission to use the data is available on their FAQ\n",
            "\n",
            "            https://coinmarketcap.com/faq/\n",
            "\n",
            "        and reads:\n",
            "\n",
            "            \"Q: Am I allowed to use content (screenshots, data, graphs, etc.) \n",
            "            for one of my personal projects and/or commercial use?\n",
            "\n",
            "            R: Absolutely! Feel free to use any content as you see fit. \n",
            "            We kindly ask that you cite us as a source.\"\n",
            "        \n",
            "        \n"
          ],
          "name": "stdout"
        }
      ]
    },
    {
      "cell_type": "code",
      "metadata": {
        "id": "GGeQOdWBEjFB",
        "colab": {
          "base_uri": "https://localhost:8080/",
          "height": 195
        },
        "outputId": "79978cdb-21f7-4cda-90fd-a3076c06abe5"
      },
      "source": [
        "historic_data = pd.read_csv('bitcoin_cash_price.csv')\n",
        "historic_data.head()"
      ],
      "execution_count": 63,
      "outputs": [
        {
          "output_type": "execute_result",
          "data": {
            "text/html": [
              "<div>\n",
              "<style scoped>\n",
              "    .dataframe tbody tr th:only-of-type {\n",
              "        vertical-align: middle;\n",
              "    }\n",
              "\n",
              "    .dataframe tbody tr th {\n",
              "        vertical-align: top;\n",
              "    }\n",
              "\n",
              "    .dataframe thead th {\n",
              "        text-align: right;\n",
              "    }\n",
              "</style>\n",
              "<table border=\"1\" class=\"dataframe\">\n",
              "  <thead>\n",
              "    <tr style=\"text-align: right;\">\n",
              "      <th></th>\n",
              "      <th>date</th>\n",
              "      <th>open</th>\n",
              "      <th>high</th>\n",
              "      <th>low</th>\n",
              "      <th>close</th>\n",
              "      <th>volume</th>\n",
              "      <th>Market Cap</th>\n",
              "    </tr>\n",
              "  </thead>\n",
              "  <tbody>\n",
              "    <tr>\n",
              "      <th>0</th>\n",
              "      <td>Feb 20, 2018</td>\n",
              "      <td>1543.27</td>\n",
              "      <td>1569.03</td>\n",
              "      <td>1414.35</td>\n",
              "      <td>1418.73</td>\n",
              "      <td>82,09,47,000</td>\n",
              "      <td>26,19,98,00,000</td>\n",
              "    </tr>\n",
              "    <tr>\n",
              "      <th>1</th>\n",
              "      <td>Feb 19, 2018</td>\n",
              "      <td>1483.34</td>\n",
              "      <td>1553.81</td>\n",
              "      <td>1483.34</td>\n",
              "      <td>1534.77</td>\n",
              "      <td>57,89,06,000</td>\n",
              "      <td>25,17,97,00,000</td>\n",
              "    </tr>\n",
              "    <tr>\n",
              "      <th>2</th>\n",
              "      <td>Feb 18, 2018</td>\n",
              "      <td>1552.10</td>\n",
              "      <td>1641.40</td>\n",
              "      <td>1428.49</td>\n",
              "      <td>1487.46</td>\n",
              "      <td>90,78,73,000</td>\n",
              "      <td>26,34,42,00,000</td>\n",
              "    </tr>\n",
              "    <tr>\n",
              "      <th>3</th>\n",
              "      <td>Feb 17, 2018</td>\n",
              "      <td>1548.48</td>\n",
              "      <td>1568.64</td>\n",
              "      <td>1517.14</td>\n",
              "      <td>1551.39</td>\n",
              "      <td>64,17,19,000</td>\n",
              "      <td>26,28,01,00,000</td>\n",
              "    </tr>\n",
              "    <tr>\n",
              "      <th>4</th>\n",
              "      <td>Feb 16, 2018</td>\n",
              "      <td>1373.16</td>\n",
              "      <td>1558.66</td>\n",
              "      <td>1369.68</td>\n",
              "      <td>1552.20</td>\n",
              "      <td>96,10,10,000</td>\n",
              "      <td>23,30,20,00,000</td>\n",
              "    </tr>\n",
              "  </tbody>\n",
              "</table>\n",
              "</div>"
            ],
            "text/plain": [
              "           date     open     high  ...    close        volume       Market Cap\n",
              "0  Feb 20, 2018  1543.27  1569.03  ...  1418.73  82,09,47,000  26,19,98,00,000\n",
              "1  Feb 19, 2018  1483.34  1553.81  ...  1534.77  57,89,06,000  25,17,97,00,000\n",
              "2  Feb 18, 2018  1552.10  1641.40  ...  1487.46  90,78,73,000  26,34,42,00,000\n",
              "3  Feb 17, 2018  1548.48  1568.64  ...  1551.39  64,17,19,000  26,28,01,00,000\n",
              "4  Feb 16, 2018  1373.16  1558.66  ...  1552.20  96,10,10,000  23,30,20,00,000\n",
              "\n",
              "[5 rows x 7 columns]"
            ]
          },
          "metadata": {
            "tags": []
          },
          "execution_count": 63
        }
      ]
    },
    {
      "cell_type": "code",
      "metadata": {
        "id": "2TcMND7sMuvQ"
      },
      "source": [
        "import pandas as pd\n",
        "\n",
        "from datetime import datetime\n",
        "from bs4 import BeautifulSoup\n",
        "df=historic_data\n",
        "df['date'] = df['date'].apply(lambda x: datetime.strptime(x, '%b %d, %Y').strftime('%Y-%m-%d'))\n",
        "df.head()\n",
        "model_data=df"
      ],
      "execution_count": 64,
      "outputs": []
    },
    {
      "cell_type": "code",
      "metadata": {
        "id": "Dp99e7edO62R"
      },
      "source": [
        "M = Model(data=model_data,\n",
        "          variable='close',\n",
        "          predicted_period_size=7)"
      ],
      "execution_count": 65,
      "outputs": []
    },
    {
      "cell_type": "code",
      "metadata": {
        "id": "vJSY6_0bO640",
        "colab": {
          "base_uri": "https://localhost:8080/"
        },
        "outputId": "637981ad-21e4-4fc4-f7b3-d9809acf2f74"
      },
      "source": [
        "M.build()"
      ],
      "execution_count": 66,
      "outputs": [
        {
          "output_type": "execute_result",
          "data": {
            "text/plain": [
              "<tensorflow.python.keras.engine.sequential.Sequential at 0x7fd338854e10>"
            ]
          },
          "metadata": {
            "tags": []
          },
          "execution_count": 66
        }
      ]
    },
    {
      "cell_type": "code",
      "metadata": {
        "id": "agRXvAl1O67i",
        "colab": {
          "base_uri": "https://localhost:8080/"
        },
        "outputId": "5d6d5409-2258-41b4-f643-31a5d7d51121"
      },
      "source": [
        "M.train(epochs=100, verbose=1)"
      ],
      "execution_count": 67,
      "outputs": [
        {
          "output_type": "stream",
          "text": [
            "Epoch 1/100\n",
            "1/1 [==============================] - 0s 1ms/step - loss: 0.0104\n",
            "Epoch 2/100\n",
            "1/1 [==============================] - 0s 2ms/step - loss: 0.0090\n",
            "Epoch 3/100\n",
            "1/1 [==============================] - 0s 1ms/step - loss: 0.0082\n",
            "Epoch 4/100\n",
            "1/1 [==============================] - 0s 1ms/step - loss: 0.0075\n",
            "Epoch 5/100\n",
            "1/1 [==============================] - 0s 2ms/step - loss: 0.0070\n",
            "Epoch 6/100\n",
            "1/1 [==============================] - 0s 1ms/step - loss: 0.0065\n",
            "Epoch 7/100\n",
            "1/1 [==============================] - 0s 2ms/step - loss: 0.0061\n",
            "Epoch 8/100\n",
            "1/1 [==============================] - 0s 954us/step - loss: 0.0057\n",
            "Epoch 9/100\n",
            "1/1 [==============================] - 0s 923us/step - loss: 0.0054\n",
            "Epoch 10/100\n",
            "1/1 [==============================] - 0s 1ms/step - loss: 0.0050\n",
            "Epoch 11/100\n",
            "1/1 [==============================] - 0s 2ms/step - loss: 0.0047\n",
            "Epoch 12/100\n",
            "1/1 [==============================] - 0s 962us/step - loss: 0.0045\n",
            "Epoch 13/100\n",
            "1/1 [==============================] - 0s 2ms/step - loss: 0.0042\n",
            "Epoch 14/100\n",
            "1/1 [==============================] - 0s 1ms/step - loss: 0.0040\n",
            "Epoch 15/100\n",
            "1/1 [==============================] - 0s 1ms/step - loss: 0.0037\n",
            "Epoch 16/100\n",
            "1/1 [==============================] - 0s 3ms/step - loss: 0.0035\n",
            "Epoch 17/100\n",
            "1/1 [==============================] - 0s 899us/step - loss: 0.0033\n",
            "Epoch 18/100\n",
            "1/1 [==============================] - 0s 2ms/step - loss: 0.0031\n",
            "Epoch 19/100\n",
            "1/1 [==============================] - 0s 986us/step - loss: 0.0029\n",
            "Epoch 20/100\n",
            "1/1 [==============================] - 0s 1ms/step - loss: 0.0027\n",
            "Epoch 21/100\n",
            "1/1 [==============================] - 0s 1ms/step - loss: 0.0025\n",
            "Epoch 22/100\n",
            "1/1 [==============================] - 0s 1ms/step - loss: 0.0023\n",
            "Epoch 23/100\n",
            "1/1 [==============================] - 0s 2ms/step - loss: 0.0022\n",
            "Epoch 24/100\n",
            "1/1 [==============================] - 0s 2ms/step - loss: 0.0020\n",
            "Epoch 25/100\n",
            "1/1 [==============================] - 0s 2ms/step - loss: 0.0019\n",
            "Epoch 26/100\n",
            "1/1 [==============================] - 0s 2ms/step - loss: 0.0017\n",
            "Epoch 27/100\n",
            "1/1 [==============================] - 0s 2ms/step - loss: 0.0016\n",
            "Epoch 28/100\n",
            "1/1 [==============================] - 0s 1ms/step - loss: 0.0015\n",
            "Epoch 29/100\n",
            "1/1 [==============================] - 0s 990us/step - loss: 0.0014\n",
            "Epoch 30/100\n",
            "1/1 [==============================] - 0s 1ms/step - loss: 0.0013\n",
            "Epoch 31/100\n",
            "1/1 [==============================] - 0s 3ms/step - loss: 0.0012\n",
            "Epoch 32/100\n",
            "1/1 [==============================] - 0s 3ms/step - loss: 0.0011\n",
            "Epoch 33/100\n",
            "1/1 [==============================] - 0s 9ms/step - loss: 9.7505e-04\n",
            "Epoch 34/100\n",
            "1/1 [==============================] - 0s 952us/step - loss: 8.9016e-04\n",
            "Epoch 35/100\n",
            "1/1 [==============================] - 0s 2ms/step - loss: 8.1102e-04\n",
            "Epoch 36/100\n",
            "1/1 [==============================] - 0s 2ms/step - loss: 7.3738e-04\n",
            "Epoch 37/100\n",
            "1/1 [==============================] - 0s 1ms/step - loss: 6.6899e-04\n",
            "Epoch 38/100\n",
            "1/1 [==============================] - 0s 3ms/step - loss: 6.0559e-04\n",
            "Epoch 39/100\n",
            "1/1 [==============================] - 0s 2ms/step - loss: 5.4693e-04\n",
            "Epoch 40/100\n",
            "1/1 [==============================] - 0s 1ms/step - loss: 4.9275e-04\n",
            "Epoch 41/100\n",
            "1/1 [==============================] - 0s 2ms/step - loss: 4.4280e-04\n",
            "Epoch 42/100\n",
            "1/1 [==============================] - 0s 2ms/step - loss: 3.9682e-04\n",
            "Epoch 43/100\n",
            "1/1 [==============================] - 0s 2ms/step - loss: 3.5458e-04\n",
            "Epoch 44/100\n",
            "1/1 [==============================] - 0s 2ms/step - loss: 3.1587e-04\n",
            "Epoch 45/100\n",
            "1/1 [==============================] - 0s 2ms/step - loss: 2.8045e-04\n",
            "Epoch 46/100\n",
            "1/1 [==============================] - 0s 2ms/step - loss: 2.4813e-04\n",
            "Epoch 47/100\n",
            "1/1 [==============================] - 0s 2ms/step - loss: 2.1871e-04\n",
            "Epoch 48/100\n",
            "1/1 [==============================] - 0s 1ms/step - loss: 1.9202e-04\n",
            "Epoch 49/100\n",
            "1/1 [==============================] - 0s 2ms/step - loss: 1.6786e-04\n",
            "Epoch 50/100\n",
            "1/1 [==============================] - 0s 1ms/step - loss: 1.4608e-04\n",
            "Epoch 51/100\n",
            "1/1 [==============================] - 0s 4ms/step - loss: 1.2651e-04\n",
            "Epoch 52/100\n",
            "1/1 [==============================] - 0s 4ms/step - loss: 1.0899e-04\n",
            "Epoch 53/100\n",
            "1/1 [==============================] - 0s 3ms/step - loss: 9.3386e-05\n",
            "Epoch 54/100\n",
            "1/1 [==============================] - 0s 2ms/step - loss: 7.9543e-05\n",
            "Epoch 55/100\n",
            "1/1 [==============================] - 0s 7ms/step - loss: 6.7325e-05\n",
            "Epoch 56/100\n",
            "1/1 [==============================] - 0s 5ms/step - loss: 5.6599e-05\n",
            "Epoch 57/100\n",
            "1/1 [==============================] - 0s 1ms/step - loss: 4.7239e-05\n",
            "Epoch 58/100\n",
            "1/1 [==============================] - 0s 2ms/step - loss: 3.9121e-05\n",
            "Epoch 59/100\n",
            "1/1 [==============================] - 0s 3ms/step - loss: 3.2130e-05\n",
            "Epoch 60/100\n",
            "1/1 [==============================] - 0s 1ms/step - loss: 2.6152e-05\n",
            "Epoch 61/100\n",
            "1/1 [==============================] - 0s 2ms/step - loss: 2.1083e-05\n",
            "Epoch 62/100\n",
            "1/1 [==============================] - 0s 2ms/step - loss: 1.6821e-05\n",
            "Epoch 63/100\n",
            "1/1 [==============================] - 0s 1ms/step - loss: 1.3272e-05\n",
            "Epoch 64/100\n",
            "1/1 [==============================] - 0s 1ms/step - loss: 1.0348e-05\n",
            "Epoch 65/100\n",
            "1/1 [==============================] - 0s 2ms/step - loss: 7.9648e-06\n",
            "Epoch 66/100\n",
            "1/1 [==============================] - 0s 1ms/step - loss: 6.0466e-06\n",
            "Epoch 67/100\n",
            "1/1 [==============================] - 0s 1ms/step - loss: 4.5228e-06\n",
            "Epoch 68/100\n",
            "1/1 [==============================] - 0s 1ms/step - loss: 3.3297e-06\n",
            "Epoch 69/100\n",
            "1/1 [==============================] - 0s 2ms/step - loss: 2.4100e-06\n",
            "Epoch 70/100\n",
            "1/1 [==============================] - 0s 1ms/step - loss: 1.7143e-06\n",
            "Epoch 71/100\n",
            "1/1 [==============================] - 0s 2ms/step - loss: 1.2113e-06\n",
            "Epoch 72/100\n",
            "1/1 [==============================] - 0s 2ms/step - loss: 9.9251e-07\n",
            "Epoch 73/100\n",
            "1/1 [==============================] - 0s 1ms/step - loss: 1.8208e-06\n",
            "Epoch 74/100\n",
            "1/1 [==============================] - 0s 2ms/step - loss: 3.6946e-06\n",
            "Epoch 75/100\n",
            "1/1 [==============================] - 0s 2ms/step - loss: 7.7328e-06\n",
            "Epoch 76/100\n",
            "1/1 [==============================] - 0s 2ms/step - loss: 1.2382e-05\n",
            "Epoch 77/100\n",
            "1/1 [==============================] - 0s 2ms/step - loss: 1.0442e-05\n",
            "Epoch 78/100\n",
            "1/1 [==============================] - 0s 2ms/step - loss: 5.9819e-06\n",
            "Epoch 79/100\n",
            "1/1 [==============================] - 0s 1ms/step - loss: 2.9477e-06\n",
            "Epoch 80/100\n",
            "1/1 [==============================] - 0s 2ms/step - loss: 1.6280e-06\n",
            "Epoch 81/100\n",
            "1/1 [==============================] - 0s 2ms/step - loss: 1.0161e-06\n",
            "Epoch 82/100\n",
            "1/1 [==============================] - 0s 2ms/step - loss: 7.6707e-07\n",
            "Epoch 83/100\n",
            "1/1 [==============================] - 0s 1ms/step - loss: 6.8092e-07\n",
            "Epoch 84/100\n",
            "1/1 [==============================] - 0s 2ms/step - loss: 7.2539e-07\n",
            "Epoch 85/100\n",
            "1/1 [==============================] - 0s 2ms/step - loss: 8.9409e-07\n",
            "Epoch 86/100\n",
            "1/1 [==============================] - 0s 1ms/step - loss: 1.2733e-06\n",
            "Epoch 87/100\n",
            "1/1 [==============================] - 0s 2ms/step - loss: 1.9740e-06\n",
            "Epoch 88/100\n",
            "1/1 [==============================] - 0s 2ms/step - loss: 3.2176e-06\n",
            "Epoch 89/100\n",
            "1/1 [==============================] - 0s 1ms/step - loss: 4.9139e-06\n",
            "Epoch 90/100\n",
            "1/1 [==============================] - 0s 2ms/step - loss: 6.6124e-06\n",
            "Epoch 91/100\n",
            "1/1 [==============================] - 0s 1ms/step - loss: 7.0846e-06\n",
            "Epoch 92/100\n",
            "1/1 [==============================] - 0s 2ms/step - loss: 6.4431e-06\n",
            "Epoch 93/100\n",
            "1/1 [==============================] - 0s 3ms/step - loss: 5.0813e-06\n",
            "Epoch 94/100\n",
            "1/1 [==============================] - 0s 1ms/step - loss: 3.9476e-06\n",
            "Epoch 95/100\n",
            "1/1 [==============================] - 0s 1ms/step - loss: 3.0930e-06\n",
            "Epoch 96/100\n",
            "1/1 [==============================] - 0s 2ms/step - loss: 2.6270e-06\n",
            "Epoch 97/100\n",
            "1/1 [==============================] - 0s 4ms/step - loss: 2.4003e-06\n",
            "Epoch 98/100\n",
            "1/1 [==============================] - 0s 1ms/step - loss: 2.4314e-06\n",
            "Epoch 99/100\n",
            "1/1 [==============================] - 0s 1ms/step - loss: 2.6625e-06\n",
            "Epoch 100/100\n",
            "1/1 [==============================] - 0s 2ms/step - loss: 3.1794e-06\n"
          ],
          "name": "stdout"
        },
        {
          "output_type": "execute_result",
          "data": {
            "text/plain": [
              "<tensorflow.python.keras.callbacks.History at 0x7fd33529fb70>"
            ]
          },
          "metadata": {
            "tags": []
          },
          "execution_count": 67
        }
      ]
    },
    {
      "cell_type": "code",
      "metadata": {
        "id": "euH1upXSMuyH",
        "colab": {
          "base_uri": "https://localhost:8080/"
        },
        "outputId": "ce4d8b53-0c73-4396-ad98-d228ae6d049a"
      },
      "source": [
        "M.predict(denormalized=True)"
      ],
      "execution_count": 68,
      "outputs": [
        {
          "output_type": "execute_result",
          "data": {
            "text/plain": [
              "array([1422.3938, 1101.4596, 1290.8877, 1432.9541, 1513.6016, 1443.4648,\n",
              "       1366.9603], dtype=float32)"
            ]
          },
          "metadata": {
            "tags": []
          },
          "execution_count": 68
        }
      ]
    },
    {
      "cell_type": "code",
      "metadata": {
        "id": "usFaaUq4M4Cq",
        "colab": {
          "base_uri": "https://localhost:8080/"
        },
        "outputId": "c9ae2fe0-9830-432d-cc49-b73f32dbf267"
      },
      "source": [
        "M.evaluate()"
      ],
      "execution_count": 69,
      "outputs": [
        {
          "output_type": "execute_result",
          "data": {
            "text/plain": [
              "{'mape': 6.43, 'mse': 0.0, 'rmse': 138.47}"
            ]
          },
          "metadata": {
            "tags": []
          },
          "execution_count": 69
        }
      ]
    },
    {
      "cell_type": "code",
      "metadata": {
        "id": "kL6aVf12VCcP"
      },
      "source": [
        "M.save('bitcoin_model_prod_v0.h5')"
      ],
      "execution_count": 70,
      "outputs": []
    },
    {
      "cell_type": "code",
      "metadata": {
        "id": "KUQZpr3KVCeu"
      },
      "source": [
        "M = Model(path='bitcoin_model_prod_v0.h5',\n",
        "          data=model_data,\n",
        "          variable='close',\n",
        "          predicted_period_size=7)"
      ],
      "execution_count": 71,
      "outputs": []
    },
    {
      "cell_type": "code",
      "metadata": {
        "id": "XirgjpCnVPAg",
        "colab": {
          "base_uri": "https://localhost:8080/"
        },
        "outputId": "1940272d-746b-4605-8541-24416d96dbb0"
      },
      "source": [
        "M.predict(denormalized=True)"
      ],
      "execution_count": 72,
      "outputs": [
        {
          "output_type": "execute_result",
          "data": {
            "text/plain": [
              "array([1422.3938, 1101.4596, 1290.8877, 1432.9541, 1513.6016, 1443.4648,\n",
              "       1366.9603], dtype=float32)"
            ]
          },
          "metadata": {
            "tags": []
          },
          "execution_count": 72
        }
      ]
    },
    {
      "cell_type": "code",
      "metadata": {
        "id": "zcoboBl1VPDV"
      },
      "source": [
        "M1 = Model(data=model_data[0*7:7*40 + 7],\n",
        "          variable='close',\n",
        "          predicted_period_size=7)"
      ],
      "execution_count": 73,
      "outputs": []
    },
    {
      "cell_type": "code",
      "metadata": {
        "id": "TzEezhuUVq6D",
        "colab": {
          "base_uri": "https://localhost:8080/"
        },
        "outputId": "7e782130-00b4-446d-864d-96ae2b7c987f"
      },
      "source": [
        "M1.build()\n",
        "M1.train()"
      ],
      "execution_count": 74,
      "outputs": [
        {
          "output_type": "execute_result",
          "data": {
            "text/plain": [
              "<tensorflow.python.keras.callbacks.History at 0x7fd335afce10>"
            ]
          },
          "metadata": {
            "tags": []
          },
          "execution_count": 74
        }
      ]
    },
    {
      "cell_type": "code",
      "metadata": {
        "id": "r8i4egpHVq8r"
      },
      "source": [
        "#\n",
        "#  Complete the range function and\n",
        "#  the model_data filtering parameters\n",
        "#  using an index to split the data in overlapping\n",
        "#  groups of 7 days. Then, re-train our model\n",
        "#  and collect the results.\n",
        "#\n",
        "#  The variables A, B, C, and D are placeholders.\n",
        "C=0*7\n",
        "D=7*50 + 7\n",
        "results = []\n",
        "for i in range(1, 11):\n",
        "    M1.train(model_data[C:D])\n",
        "    results.append(M.evaluate())"
      ],
      "execution_count": 75,
      "outputs": []
    },
    {
      "cell_type": "code",
      "metadata": {
        "id": "AglPX7yzVrEt",
        "colab": {
          "base_uri": "https://localhost:8080/"
        },
        "outputId": "3ed7c480-3c8d-4372-efa2-d2a72e059e89"
      },
      "source": [
        "for i, result in enumerate(results):\n",
        "    print(f'Week {40+i+1}: {result}')"
      ],
      "execution_count": 76,
      "outputs": [
        {
          "output_type": "stream",
          "text": [
            "Week 41: {'mse': 0.0, 'rmse': 138.47, 'mape': 6.43}\n",
            "Week 42: {'mse': 0.0, 'rmse': 138.47, 'mape': 6.43}\n",
            "Week 43: {'mse': 0.0, 'rmse': 138.47, 'mape': 6.43}\n",
            "Week 44: {'mse': 0.0, 'rmse': 138.47, 'mape': 6.43}\n",
            "Week 45: {'mse': 0.0, 'rmse': 138.47, 'mape': 6.43}\n",
            "Week 46: {'mse': 0.0, 'rmse': 138.47, 'mape': 6.43}\n",
            "Week 47: {'mse': 0.0, 'rmse': 138.47, 'mape': 6.43}\n",
            "Week 48: {'mse': 0.0, 'rmse': 138.47, 'mape': 6.43}\n",
            "Week 49: {'mse': 0.0, 'rmse': 138.47, 'mape': 6.43}\n",
            "Week 50: {'mse': 0.0, 'rmse': 138.47, 'mape': 6.43}\n"
          ],
          "name": "stdout"
        }
      ]
    },
    {
      "cell_type": "code",
      "metadata": {
        "id": "zotWoOS2VrHC",
        "colab": {
          "base_uri": "https://localhost:8080/"
        },
        "outputId": "9db0f930-1aad-4546-ac22-494697c7c14c"
      },
      "source": [
        "M1.predict(denormalized=True)"
      ],
      "execution_count": 77,
      "outputs": [
        {
          "output_type": "execute_result",
          "data": {
            "text/plain": [
              "array([1416.0327, 1100.7738, 1293.7289, 1438.7609, 1519.3174, 1438.6158,\n",
              "       1363.049 ], dtype=float32)"
            ]
          },
          "metadata": {
            "tags": []
          },
          "execution_count": 77
        }
      ]
    },
    {
      "cell_type": "code",
      "metadata": {
        "id": "piL9T8LOYmVp"
      },
      "source": [
        "old_data = model_data[0*7:7*48 + 7]"
      ],
      "execution_count": 78,
      "outputs": []
    },
    {
      "cell_type": "code",
      "metadata": {
        "id": "nELL15H_Ymdp"
      },
      "source": [
        "new_data = model_data[0*7:7*49 + 7]"
      ],
      "execution_count": 79,
      "outputs": []
    },
    {
      "cell_type": "code",
      "metadata": {
        "id": "SzBoq4-mYwJT"
      },
      "source": [
        "M2 = Model(data=old_data,\n",
        "          variable='close',\n",
        "          predicted_period_size=7)"
      ],
      "execution_count": 80,
      "outputs": []
    },
    {
      "cell_type": "code",
      "metadata": {
        "id": "WLDkN7ozYwME",
        "colab": {
          "base_uri": "https://localhost:8080/"
        },
        "outputId": "de391461-38f2-4d77-b0eb-57bd77ce6b36"
      },
      "source": [
        "M2.build()\n",
        "M1.train()"
      ],
      "execution_count": 81,
      "outputs": [
        {
          "output_type": "execute_result",
          "data": {
            "text/plain": [
              "<tensorflow.python.keras.callbacks.History at 0x7fd3355706d8>"
            ]
          },
          "metadata": {
            "tags": []
          },
          "execution_count": 81
        }
      ]
    },
    {
      "cell_type": "code",
      "metadata": {
        "id": "jOQa7SYaYwOQ",
        "colab": {
          "base_uri": "https://localhost:8080/"
        },
        "outputId": "1b85e971-e3be-4f67-cc69-8caa6a03a207"
      },
      "source": [
        "M2.predict(denormalized=True)"
      ],
      "execution_count": 82,
      "outputs": [
        {
          "output_type": "execute_result",
          "data": {
            "text/plain": [
              "array([1423.6116, 1440.7974, 1447.522 , 1426.6843, 1331.5184, 1398.1311,\n",
              "       1425.578 ], dtype=float32)"
            ]
          },
          "metadata": {
            "tags": []
          },
          "execution_count": 82
        }
      ]
    },
    {
      "cell_type": "code",
      "metadata": {
        "id": "niP7TcHJY270"
      },
      "source": [
        "#\n",
        "#  Re-instantiate the model with the Model()\n",
        "#  class using the new_data variable instead\n",
        "#  of the old_data one. \n",
        "M3 = Model(data=new_data,\n",
        "          variable='close',\n",
        "          predicted_period_size=7)\n"
      ],
      "execution_count": 83,
      "outputs": []
    },
    {
      "cell_type": "code",
      "metadata": {
        "id": "3QKcvvusY2-O",
        "colab": {
          "base_uri": "https://localhost:8080/"
        },
        "outputId": "8a4a0497-15d3-4d3f-f121-38d1e3c5143c"
      },
      "source": [
        "M3.build()\n",
        "M3.train()"
      ],
      "execution_count": 84,
      "outputs": [
        {
          "output_type": "execute_result",
          "data": {
            "text/plain": [
              "<tensorflow.python.keras.callbacks.History at 0x7fd3339f5470>"
            ]
          },
          "metadata": {
            "tags": []
          },
          "execution_count": 84
        }
      ]
    },
    {
      "cell_type": "code",
      "metadata": {
        "id": "DhN6VxkRZFcs",
        "colab": {
          "base_uri": "https://localhost:8080/"
        },
        "outputId": "9008e45f-d982-4d82-fea0-cae313dece48"
      },
      "source": [
        "M3.predict(denormalized=True)"
      ],
      "execution_count": 85,
      "outputs": [
        {
          "output_type": "execute_result",
          "data": {
            "text/plain": [
              "array([1421.6427, 1103.1051, 1292.5247, 1437.0874, 1515.5812, 1441.2545,\n",
              "       1363.2206], dtype=float32)"
            ]
          },
          "metadata": {
            "tags": []
          },
          "execution_count": 85
        }
      ]
    },
    {
      "cell_type": "code",
      "metadata": {
        "id": "gSTZlWdE3Nju"
      },
      "source": [
        "M3.save(\"final_m3.h5\")"
      ],
      "execution_count": 86,
      "outputs": []
    }
  ]
}