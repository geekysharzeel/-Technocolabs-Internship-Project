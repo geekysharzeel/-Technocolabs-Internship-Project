{
  "nbformat": 4,
  "nbformat_minor": 0,
  "metadata": {
    "colab": {
      "name": "deployment_bitcoin.ipynb",
      "provenance": [],
      "collapsed_sections": [],
      "authorship_tag": "ABX9TyNnRJ9JzAWv7l4pqWGH/UiV",
      "include_colab_link": true
    },
    "kernelspec": {
      "name": "python3",
      "display_name": "Python 3"
    }
  },
  "cells": [
    {
      "cell_type": "markdown",
      "metadata": {
        "id": "view-in-github",
        "colab_type": "text"
      },
      "source": [
        "<a href=\"https://colab.research.google.com/github/geekysharzeel/-Technocolabs-Internship-Project/blob/main/deployment_bitcoin.ipynb\" target=\"_parent\"><img src=\"https://colab.research.google.com/assets/colab-badge.svg\" alt=\"Open In Colab\"/></a>"
      ]
    },
    {
      "cell_type": "code",
      "metadata": {
        "id": "5rmxD3ePD3rY",
        "outputId": "8695ecc3-05af-4a32-c250-295e570c20a7",
        "colab": {
          "base_uri": "https://localhost:8080/",
          "height": 558
        }
      },
      "source": [
        "from cryptonic import Model\n",
        "from cryptonic import CoinMarketCap\n",
        "from cryptonic.models import normalizations\n",
        "import pandas as pd\n",
        "from tqdm import tqdm_notebook\n",
        "!pip install python-binance\n",
        "from binance.client import Client\n",
        "\n",
        "%autosave 5\n",
        "%matplotlib inline\n"
      ],
      "execution_count": null,
      "outputs": [
        {
          "output_type": "stream",
          "text": [
            "Requirement already satisfied: python-binance in /usr/local/lib/python3.6/dist-packages (0.7.5)\n",
            "Requirement already satisfied: six in /usr/local/lib/python3.6/dist-packages (from python-binance) (1.15.0)\n",
            "Requirement already satisfied: certifi in /usr/local/lib/python3.6/dist-packages (from python-binance) (2020.6.20)\n",
            "Requirement already satisfied: Twisted in /usr/local/lib/python3.6/dist-packages (from python-binance) (20.3.0)\n",
            "Requirement already satisfied: autobahn in /usr/local/lib/python3.6/dist-packages (from python-binance) (20.7.1)\n",
            "Requirement already satisfied: urllib3 in /usr/local/lib/python3.6/dist-packages (from python-binance) (1.24.3)\n",
            "Requirement already satisfied: pyOpenSSL in /usr/local/lib/python3.6/dist-packages (from python-binance) (19.1.0)\n",
            "Requirement already satisfied: dateparser in /usr/local/lib/python3.6/dist-packages (from python-binance) (1.0.0)\n",
            "Requirement already satisfied: cryptography in /usr/local/lib/python3.6/dist-packages (from python-binance) (3.2.1)\n",
            "Requirement already satisfied: service-identity in /usr/local/lib/python3.6/dist-packages (from python-binance) (18.1.0)\n",
            "Requirement already satisfied: requests in /usr/local/lib/python3.6/dist-packages (from python-binance) (2.23.0)\n",
            "Requirement already satisfied: PyHamcrest!=1.10.0,>=1.9.0 in /usr/local/lib/python3.6/dist-packages (from Twisted->python-binance) (2.0.2)\n",
            "Requirement already satisfied: constantly>=15.1 in /usr/local/lib/python3.6/dist-packages (from Twisted->python-binance) (15.1.0)\n",
            "Requirement already satisfied: Automat>=0.3.0 in /usr/local/lib/python3.6/dist-packages (from Twisted->python-binance) (20.2.0)\n",
            "Requirement already satisfied: incremental>=16.10.1 in /usr/local/lib/python3.6/dist-packages (from Twisted->python-binance) (17.5.0)\n",
            "Requirement already satisfied: hyperlink>=17.1.1 in /usr/local/lib/python3.6/dist-packages (from Twisted->python-binance) (20.0.1)\n",
            "Requirement already satisfied: zope.interface>=4.4.2 in /usr/local/lib/python3.6/dist-packages (from Twisted->python-binance) (5.2.0)\n",
            "Requirement already satisfied: attrs>=19.2.0 in /usr/local/lib/python3.6/dist-packages (from Twisted->python-binance) (20.2.0)\n",
            "Requirement already satisfied: txaio>=20.3.1 in /usr/local/lib/python3.6/dist-packages (from autobahn->python-binance) (20.4.1)\n",
            "Requirement already satisfied: regex!=2019.02.19 in /usr/local/lib/python3.6/dist-packages (from dateparser->python-binance) (2019.12.20)\n",
            "Requirement already satisfied: pytz in /usr/local/lib/python3.6/dist-packages (from dateparser->python-binance) (2018.9)\n",
            "Requirement already satisfied: python-dateutil in /usr/local/lib/python3.6/dist-packages (from dateparser->python-binance) (2.8.1)\n",
            "Requirement already satisfied: tzlocal in /usr/local/lib/python3.6/dist-packages (from dateparser->python-binance) (1.5.1)\n",
            "Requirement already satisfied: cffi!=1.11.3,>=1.8 in /usr/local/lib/python3.6/dist-packages (from cryptography->python-binance) (1.14.3)\n",
            "Requirement already satisfied: pyasn1 in /usr/local/lib/python3.6/dist-packages (from service-identity->python-binance) (0.4.8)\n",
            "Requirement already satisfied: pyasn1-modules in /usr/local/lib/python3.6/dist-packages (from service-identity->python-binance) (0.2.8)\n",
            "Requirement already satisfied: chardet<4,>=3.0.2 in /usr/local/lib/python3.6/dist-packages (from requests->python-binance) (3.0.4)\n",
            "Requirement already satisfied: idna<3,>=2.5 in /usr/local/lib/python3.6/dist-packages (from requests->python-binance) (2.10)\n",
            "Requirement already satisfied: setuptools in /usr/local/lib/python3.6/dist-packages (from zope.interface>=4.4.2->Twisted->python-binance) (50.3.2)\n",
            "Requirement already satisfied: pycparser in /usr/local/lib/python3.6/dist-packages (from cffi!=1.11.3,>=1.8->cryptography->python-binance) (2.20)\n"
          ],
          "name": "stdout"
        },
        {
          "output_type": "display_data",
          "data": {
            "application/javascript": [
              "IPython.notebook.set_autosave_interval(5000)"
            ]
          },
          "metadata": {
            "tags": []
          }
        },
        {
          "output_type": "stream",
          "text": [
            "Autosaving every 5 seconds\n"
          ],
          "name": "stdout"
        }
      ]
    },
    {
      "cell_type": "code",
      "metadata": {
        "id": "tn7w3Y0zEjCQ",
        "outputId": "39a54ccb-05fb-4f61-800b-9e510e732cec",
        "colab": {
          "base_uri": "https://localhost:8080/"
        }
      },
      "source": [
        "print(CoinMarketCap())"
      ],
      "execution_count": null,
      "outputs": [
        {
          "output_type": "stream",
          "text": [
            "\n",
            "\n",
            "        Crypto-currency data comes from the website CoinMarketCap.\n",
            "        CoinMarketCap is can be accessed at: https://coinmarketcap.com/\n",
            "\n",
            "        The permission to use the data is available on their FAQ\n",
            "\n",
            "            https://coinmarketcap.com/faq/\n",
            "\n",
            "        and reads:\n",
            "\n",
            "            \"Q: Am I allowed to use content (screenshots, data, graphs, etc.) \n",
            "            for one of my personal projects and/or commercial use?\n",
            "\n",
            "            R: Absolutely! Feel free to use any content as you see fit. \n",
            "            We kindly ask that you cite us as a source.\"\n",
            "        \n",
            "        \n"
          ],
          "name": "stdout"
        }
      ]
    },
    {
      "cell_type": "code",
      "metadata": {
        "id": "GGeQOdWBEjFB",
        "outputId": "2ed71e6a-0a13-4bf2-a672-f76e936f6b6e",
        "colab": {
          "base_uri": "https://localhost:8080/",
          "height": 195
        }
      },
      "source": [
        "historic_data = pd.read_csv('bitcoin_cash_price.csv')\n",
        "historic_data.head()"
      ],
      "execution_count": null,
      "outputs": [
        {
          "output_type": "execute_result",
          "data": {
            "text/html": [
              "<div>\n",
              "<style scoped>\n",
              "    .dataframe tbody tr th:only-of-type {\n",
              "        vertical-align: middle;\n",
              "    }\n",
              "\n",
              "    .dataframe tbody tr th {\n",
              "        vertical-align: top;\n",
              "    }\n",
              "\n",
              "    .dataframe thead th {\n",
              "        text-align: right;\n",
              "    }\n",
              "</style>\n",
              "<table border=\"1\" class=\"dataframe\">\n",
              "  <thead>\n",
              "    <tr style=\"text-align: right;\">\n",
              "      <th></th>\n",
              "      <th>Date</th>\n",
              "      <th>Open</th>\n",
              "      <th>High</th>\n",
              "      <th>Low</th>\n",
              "      <th>Close</th>\n",
              "      <th>Volume</th>\n",
              "      <th>Market Cap</th>\n",
              "    </tr>\n",
              "  </thead>\n",
              "  <tbody>\n",
              "    <tr>\n",
              "      <th>0</th>\n",
              "      <td>Feb 20, 2018</td>\n",
              "      <td>1543.27</td>\n",
              "      <td>1569.03</td>\n",
              "      <td>1414.35</td>\n",
              "      <td>1418.73</td>\n",
              "      <td>820,947,000</td>\n",
              "      <td>26,199,800,000</td>\n",
              "    </tr>\n",
              "    <tr>\n",
              "      <th>1</th>\n",
              "      <td>Feb 19, 2018</td>\n",
              "      <td>1483.34</td>\n",
              "      <td>1553.81</td>\n",
              "      <td>1483.34</td>\n",
              "      <td>1534.77</td>\n",
              "      <td>578,906,000</td>\n",
              "      <td>25,179,700,000</td>\n",
              "    </tr>\n",
              "    <tr>\n",
              "      <th>2</th>\n",
              "      <td>Feb 18, 2018</td>\n",
              "      <td>1552.10</td>\n",
              "      <td>1641.40</td>\n",
              "      <td>1428.49</td>\n",
              "      <td>1487.46</td>\n",
              "      <td>907,873,000</td>\n",
              "      <td>26,344,200,000</td>\n",
              "    </tr>\n",
              "    <tr>\n",
              "      <th>3</th>\n",
              "      <td>Feb 17, 2018</td>\n",
              "      <td>1548.48</td>\n",
              "      <td>1568.64</td>\n",
              "      <td>1517.14</td>\n",
              "      <td>1551.39</td>\n",
              "      <td>641,719,000</td>\n",
              "      <td>26,280,100,000</td>\n",
              "    </tr>\n",
              "    <tr>\n",
              "      <th>4</th>\n",
              "      <td>Feb 16, 2018</td>\n",
              "      <td>1373.16</td>\n",
              "      <td>1558.66</td>\n",
              "      <td>1369.68</td>\n",
              "      <td>1552.20</td>\n",
              "      <td>961,010,000</td>\n",
              "      <td>23,302,000,000</td>\n",
              "    </tr>\n",
              "  </tbody>\n",
              "</table>\n",
              "</div>"
            ],
            "text/plain": [
              "           Date     Open     High  ...    Close       Volume      Market Cap\n",
              "0  Feb 20, 2018  1543.27  1569.03  ...  1418.73  820,947,000  26,199,800,000\n",
              "1  Feb 19, 2018  1483.34  1553.81  ...  1534.77  578,906,000  25,179,700,000\n",
              "2  Feb 18, 2018  1552.10  1641.40  ...  1487.46  907,873,000  26,344,200,000\n",
              "3  Feb 17, 2018  1548.48  1568.64  ...  1551.39  641,719,000  26,280,100,000\n",
              "4  Feb 16, 2018  1373.16  1558.66  ...  1552.20  961,010,000  23,302,000,000\n",
              "\n",
              "[5 rows x 7 columns]"
            ]
          },
          "metadata": {
            "tags": []
          },
          "execution_count": 3
        }
      ]
    },
    {
      "cell_type": "code",
      "metadata": {
        "id": "2TcMND7sMuvQ"
      },
      "source": [
        "\n",
        "model_data=historic_data\n"
      ],
      "execution_count": null,
      "outputs": []
    },
    {
      "cell_type": "code",
      "metadata": {
        "id": "Dp99e7edO62R"
      },
      "source": [
        "M = Model(data=model_data,\n",
        "          variable='close',\n",
        "          predicted_period_size=7)"
      ],
      "execution_count": null,
      "outputs": []
    },
    {
      "cell_type": "code",
      "metadata": {
        "id": "vJSY6_0bO640",
        "outputId": "deb74087-a248-4630-f0f7-ce7553c65d04",
        "colab": {
          "base_uri": "https://localhost:8080/"
        }
      },
      "source": [
        "M.build()"
      ],
      "execution_count": null,
      "outputs": [
        {
          "output_type": "execute_result",
          "data": {
            "text/plain": [
              "<tensorflow.python.keras.engine.sequential.Sequential at 0x7f62f112e978>"
            ]
          },
          "metadata": {
            "tags": []
          },
          "execution_count": 17
        }
      ]
    },
    {
      "cell_type": "code",
      "metadata": {
        "id": "agRXvAl1O67i",
        "outputId": "ae2bee34-f926-4e3d-dd13-dfcba3cd0f49",
        "colab": {
          "base_uri": "https://localhost:8080/"
        }
      },
      "source": [
        "M.train(epochs=100, verbose=1)"
      ],
      "execution_count": null,
      "outputs": [
        {
          "output_type": "stream",
          "text": [
            "Epoch 1/100\n",
            "1/1 [==============================] - 0s 1ms/step - loss: 0.0116\n",
            "Epoch 2/100\n",
            "1/1 [==============================] - 0s 921us/step - loss: 0.0100\n",
            "Epoch 3/100\n",
            "1/1 [==============================] - 0s 845us/step - loss: 0.0090\n",
            "Epoch 4/100\n",
            "1/1 [==============================] - 0s 1ms/step - loss: 0.0083\n",
            "Epoch 5/100\n",
            "1/1 [==============================] - 0s 854us/step - loss: 0.0077\n",
            "Epoch 6/100\n",
            "1/1 [==============================] - 0s 1ms/step - loss: 0.0071\n",
            "Epoch 7/100\n",
            "1/1 [==============================] - 0s 777us/step - loss: 0.0067\n",
            "Epoch 8/100\n",
            "1/1 [==============================] - 0s 1ms/step - loss: 0.0063\n",
            "Epoch 9/100\n",
            "1/1 [==============================] - 0s 2ms/step - loss: 0.0059\n",
            "Epoch 10/100\n",
            "1/1 [==============================] - 0s 766us/step - loss: 0.0055\n",
            "Epoch 11/100\n",
            "1/1 [==============================] - 0s 1ms/step - loss: 0.0052\n",
            "Epoch 12/100\n",
            "1/1 [==============================] - 0s 758us/step - loss: 0.0049\n",
            "Epoch 13/100\n",
            "1/1 [==============================] - 0s 881us/step - loss: 0.0047\n",
            "Epoch 14/100\n",
            "1/1 [==============================] - 0s 1ms/step - loss: 0.0044\n",
            "Epoch 15/100\n",
            "1/1 [==============================] - 0s 2ms/step - loss: 0.0041\n",
            "Epoch 16/100\n",
            "1/1 [==============================] - 0s 1ms/step - loss: 0.0039\n",
            "Epoch 17/100\n",
            "1/1 [==============================] - 0s 856us/step - loss: 0.0037\n",
            "Epoch 18/100\n",
            "1/1 [==============================] - 0s 866us/step - loss: 0.0035\n",
            "Epoch 19/100\n",
            "1/1 [==============================] - 0s 1ms/step - loss: 0.0033\n",
            "Epoch 20/100\n",
            "1/1 [==============================] - 0s 2ms/step - loss: 0.0031\n",
            "Epoch 21/100\n",
            "1/1 [==============================] - 0s 2ms/step - loss: 0.0029\n",
            "Epoch 22/100\n",
            "1/1 [==============================] - 0s 1ms/step - loss: 0.0027\n",
            "Epoch 23/100\n",
            "1/1 [==============================] - 0s 1ms/step - loss: 0.0025\n",
            "Epoch 24/100\n",
            "1/1 [==============================] - 0s 2ms/step - loss: 0.0024\n",
            "Epoch 25/100\n",
            "1/1 [==============================] - 0s 1ms/step - loss: 0.0022\n",
            "Epoch 26/100\n",
            "1/1 [==============================] - 0s 973us/step - loss: 0.0021\n",
            "Epoch 27/100\n",
            "1/1 [==============================] - 0s 1ms/step - loss: 0.0020\n",
            "Epoch 28/100\n",
            "1/1 [==============================] - 0s 913us/step - loss: 0.0018\n",
            "Epoch 29/100\n",
            "1/1 [==============================] - 0s 1ms/step - loss: 0.0017\n",
            "Epoch 30/100\n",
            "1/1 [==============================] - 0s 2ms/step - loss: 0.0016\n",
            "Epoch 31/100\n",
            "1/1 [==============================] - 0s 1ms/step - loss: 0.0015\n",
            "Epoch 32/100\n",
            "1/1 [==============================] - 0s 1ms/step - loss: 0.0014\n",
            "Epoch 33/100\n",
            "1/1 [==============================] - 0s 1ms/step - loss: 0.0013\n",
            "Epoch 34/100\n",
            "1/1 [==============================] - 0s 1ms/step - loss: 0.0012\n",
            "Epoch 35/100\n",
            "1/1 [==============================] - 0s 910us/step - loss: 0.0011\n",
            "Epoch 36/100\n",
            "1/1 [==============================] - 0s 1ms/step - loss: 0.0010\n",
            "Epoch 37/100\n",
            "1/1 [==============================] - 0s 1ms/step - loss: 9.7401e-04\n",
            "Epoch 38/100\n",
            "1/1 [==============================] - 0s 1ms/step - loss: 9.0239e-04\n",
            "Epoch 39/100\n",
            "1/1 [==============================] - 0s 1ms/step - loss: 8.3431e-04\n",
            "Epoch 40/100\n",
            "1/1 [==============================] - 0s 930us/step - loss: 7.6958e-04\n",
            "Epoch 41/100\n",
            "1/1 [==============================] - 0s 895us/step - loss: 7.0803e-04\n",
            "Epoch 42/100\n",
            "1/1 [==============================] - 0s 899us/step - loss: 6.4955e-04\n",
            "Epoch 43/100\n",
            "1/1 [==============================] - 0s 906us/step - loss: 5.9405e-04\n",
            "Epoch 44/100\n",
            "1/1 [==============================] - 0s 2ms/step - loss: 5.4145e-04\n",
            "Epoch 45/100\n",
            "1/1 [==============================] - 0s 943us/step - loss: 4.9171e-04\n",
            "Epoch 46/100\n",
            "1/1 [==============================] - 0s 1ms/step - loss: 4.4477e-04\n",
            "Epoch 47/100\n",
            "1/1 [==============================] - 0s 974us/step - loss: 4.0062e-04\n",
            "Epoch 48/100\n",
            "1/1 [==============================] - 0s 961us/step - loss: 3.5921e-04\n",
            "Epoch 49/100\n",
            "1/1 [==============================] - 0s 969us/step - loss: 3.2051e-04\n",
            "Epoch 50/100\n",
            "1/1 [==============================] - 0s 1ms/step - loss: 2.8449e-04\n",
            "Epoch 51/100\n",
            "1/1 [==============================] - 0s 961us/step - loss: 2.5110e-04\n",
            "Epoch 52/100\n",
            "1/1 [==============================] - 0s 870us/step - loss: 2.2030e-04\n",
            "Epoch 53/100\n",
            "1/1 [==============================] - 0s 1ms/step - loss: 1.9203e-04\n",
            "Epoch 54/100\n",
            "1/1 [==============================] - 0s 827us/step - loss: 1.6622e-04\n",
            "Epoch 55/100\n",
            "1/1 [==============================] - 0s 948us/step - loss: 1.4282e-04\n",
            "Epoch 56/100\n",
            "1/1 [==============================] - 0s 901us/step - loss: 1.2172e-04\n",
            "Epoch 57/100\n",
            "1/1 [==============================] - 0s 974us/step - loss: 1.0285e-04\n",
            "Epoch 58/100\n",
            "1/1 [==============================] - 0s 879us/step - loss: 8.6099e-05\n",
            "Epoch 59/100\n",
            "1/1 [==============================] - 0s 921us/step - loss: 7.1354e-05\n",
            "Epoch 60/100\n",
            "1/1 [==============================] - 0s 1ms/step - loss: 5.8497e-05\n",
            "Epoch 61/100\n",
            "1/1 [==============================] - 0s 994us/step - loss: 4.7401e-05\n",
            "Epoch 62/100\n",
            "1/1 [==============================] - 0s 918us/step - loss: 3.7929e-05\n",
            "Epoch 63/100\n",
            "1/1 [==============================] - 0s 983us/step - loss: 2.9942e-05\n",
            "Epoch 64/100\n",
            "1/1 [==============================] - 0s 1ms/step - loss: 2.3294e-05\n",
            "Epoch 65/100\n",
            "1/1 [==============================] - 0s 918us/step - loss: 1.7839e-05\n",
            "Epoch 66/100\n",
            "1/1 [==============================] - 0s 877us/step - loss: 1.3433e-05\n",
            "Epoch 67/100\n",
            "1/1 [==============================] - 0s 1ms/step - loss: 9.9333e-06\n",
            "Epoch 68/100\n",
            "1/1 [==============================] - 0s 962us/step - loss: 7.2036e-06\n",
            "Epoch 69/100\n",
            "1/1 [==============================] - 0s 1ms/step - loss: 5.1161e-06\n",
            "Epoch 70/100\n",
            "1/1 [==============================] - 0s 1ms/step - loss: 3.5533e-06\n",
            "Epoch 71/100\n",
            "1/1 [==============================] - 0s 1ms/step - loss: 2.4097e-06\n",
            "Epoch 72/100\n",
            "1/1 [==============================] - 0s 904us/step - loss: 1.5931e-06\n",
            "Epoch 73/100\n",
            "1/1 [==============================] - 0s 1ms/step - loss: 1.0254e-06\n",
            "Epoch 74/100\n",
            "1/1 [==============================] - 0s 1ms/step - loss: 6.4593e-07\n",
            "Epoch 75/100\n",
            "1/1 [==============================] - 0s 921us/step - loss: 4.5104e-07\n",
            "Epoch 76/100\n",
            "1/1 [==============================] - 0s 768us/step - loss: 8.8659e-07\n",
            "Epoch 77/100\n",
            "1/1 [==============================] - 0s 1ms/step - loss: 3.2184e-06\n",
            "Epoch 78/100\n",
            "1/1 [==============================] - 0s 960us/step - loss: 5.8204e-06\n",
            "Epoch 79/100\n",
            "1/1 [==============================] - 0s 1ms/step - loss: 5.9930e-06\n",
            "Epoch 80/100\n",
            "1/1 [==============================] - 0s 915us/step - loss: 4.3048e-06\n",
            "Epoch 81/100\n",
            "1/1 [==============================] - 0s 939us/step - loss: 4.0653e-06\n",
            "Epoch 82/100\n",
            "1/1 [==============================] - 0s 1ms/step - loss: 4.4835e-06\n",
            "Epoch 83/100\n",
            "1/1 [==============================] - 0s 1ms/step - loss: 6.1344e-06\n",
            "Epoch 84/100\n",
            "1/1 [==============================] - 0s 1ms/step - loss: 7.1327e-06\n",
            "Epoch 85/100\n",
            "1/1 [==============================] - 0s 885us/step - loss: 7.4652e-06\n",
            "Epoch 86/100\n",
            "1/1 [==============================] - 0s 828us/step - loss: 6.1201e-06\n",
            "Epoch 87/100\n",
            "1/1 [==============================] - 0s 842us/step - loss: 5.0392e-06\n",
            "Epoch 88/100\n",
            "1/1 [==============================] - 0s 998us/step - loss: 3.8167e-06\n",
            "Epoch 89/100\n",
            "1/1 [==============================] - 0s 922us/step - loss: 3.2621e-06\n",
            "Epoch 90/100\n",
            "1/1 [==============================] - 0s 1ms/step - loss: 2.8250e-06\n",
            "Epoch 91/100\n",
            "1/1 [==============================] - 0s 958us/step - loss: 2.8477e-06\n",
            "Epoch 92/100\n",
            "1/1 [==============================] - 0s 1ms/step - loss: 2.9826e-06\n",
            "Epoch 93/100\n",
            "1/1 [==============================] - 0s 964us/step - loss: 3.6505e-06\n",
            "Epoch 94/100\n",
            "1/1 [==============================] - 0s 954us/step - loss: 4.7458e-06\n",
            "Epoch 95/100\n",
            "1/1 [==============================] - 0s 1ms/step - loss: 7.3610e-06\n",
            "Epoch 96/100\n",
            "1/1 [==============================] - 0s 848us/step - loss: 9.8803e-06\n",
            "Epoch 97/100\n",
            "1/1 [==============================] - 0s 905us/step - loss: 9.9875e-06\n",
            "Epoch 98/100\n",
            "1/1 [==============================] - 0s 1ms/step - loss: 7.2920e-06\n",
            "Epoch 99/100\n",
            "1/1 [==============================] - 0s 1ms/step - loss: 5.4554e-06\n",
            "Epoch 100/100\n",
            "1/1 [==============================] - 0s 966us/step - loss: 4.0357e-06\n"
          ],
          "name": "stdout"
        },
        {
          "output_type": "execute_result",
          "data": {
            "text/plain": [
              "<tensorflow.python.keras.callbacks.History at 0x7f62ea092ac8>"
            ]
          },
          "metadata": {
            "tags": []
          },
          "execution_count": 18
        }
      ]
    },
    {
      "cell_type": "code",
      "metadata": {
        "id": "euH1upXSMuyH",
        "outputId": "002301dc-7e82-494e-ec51-6ec9fb38e8be",
        "colab": {
          "base_uri": "https://localhost:8080/"
        }
      },
      "source": [
        "M.predict(denormalized=True)"
      ],
      "execution_count": null,
      "outputs": [
        {
          "output_type": "execute_result",
          "data": {
            "text/plain": [
              "array([1415.824 , 1103.0189, 1290.876 , 1434.3203, 1512.9236, 1442.9053,\n",
              "       1364.5859], dtype=float32)"
            ]
          },
          "metadata": {
            "tags": []
          },
          "execution_count": 19
        }
      ]
    },
    {
      "cell_type": "code",
      "metadata": {
        "id": "usFaaUq4M4Cq",
        "outputId": "cbe751ea-e3e5-48d5-e018-c7ca9fec955d",
        "colab": {
          "base_uri": "https://localhost:8080/"
        }
      },
      "source": [
        "M.evaluate()"
      ],
      "execution_count": null,
      "outputs": [
        {
          "output_type": "execute_result",
          "data": {
            "text/plain": [
              "{'mape': 6.45, 'mse': 0.0, 'rmse': 135.95}"
            ]
          },
          "metadata": {
            "tags": []
          },
          "execution_count": 20
        }
      ]
    },
    {
      "cell_type": "code",
      "metadata": {
        "id": "kL6aVf12VCcP"
      },
      "source": [
        "M.save('bitcoin_model_prod_v0.h5')"
      ],
      "execution_count": null,
      "outputs": []
    },
    {
      "cell_type": "code",
      "metadata": {
        "id": "KUQZpr3KVCeu"
      },
      "source": [
        "M = Model(path='bitcoin_model_prod_v0.h5',\n",
        "          data=model_data,\n",
        "          variable='close',\n",
        "          predicted_period_size=7)"
      ],
      "execution_count": null,
      "outputs": []
    },
    {
      "cell_type": "code",
      "metadata": {
        "id": "XirgjpCnVPAg",
        "outputId": "8d02292f-d470-4ef5-af53-63fe964411a8",
        "colab": {
          "base_uri": "https://localhost:8080/"
        }
      },
      "source": [
        "M.predict(denormalized=True)"
      ],
      "execution_count": null,
      "outputs": [
        {
          "output_type": "execute_result",
          "data": {
            "text/plain": [
              "array([1415.824 , 1103.0189, 1290.876 , 1434.3203, 1512.9236, 1442.9053,\n",
              "       1364.5859], dtype=float32)"
            ]
          },
          "metadata": {
            "tags": []
          },
          "execution_count": 47
        }
      ]
    },
    {
      "cell_type": "code",
      "metadata": {
        "id": "zcoboBl1VPDV"
      },
      "source": [
        "M1 = Model(data=model_data[0*7:7*40 + 7],\n",
        "          variable='close',\n",
        "          predicted_period_size=7)"
      ],
      "execution_count": null,
      "outputs": []
    },
    {
      "cell_type": "code",
      "metadata": {
        "id": "TzEezhuUVq6D",
        "outputId": "68142453-89dd-42f9-8398-c488da1960d3",
        "colab": {
          "base_uri": "https://localhost:8080/"
        }
      },
      "source": [
        "M1.build()\n",
        "M1.train()"
      ],
      "execution_count": null,
      "outputs": [
        {
          "output_type": "execute_result",
          "data": {
            "text/plain": [
              "<tensorflow.python.keras.callbacks.History at 0x7f62dc8e98d0>"
            ]
          },
          "metadata": {
            "tags": []
          },
          "execution_count": 49
        }
      ]
    },
    {
      "cell_type": "code",
      "metadata": {
        "id": "r8i4egpHVq8r"
      },
      "source": [
        "#\n",
        "#  Complete the range function and\n",
        "#  the model_data filtering parameters\n",
        "#  using an index to split the data in overlapping\n",
        "#  groups of 7 days. Then, re-train our model\n",
        "#  and collect the results.\n",
        "#\n",
        "#  The variables A, B, C, and D are placeholders.\n",
        "C=0*7\n",
        "D=7*50 + 7\n",
        "results = []\n",
        "for i in range(41, 51):\n",
        "    M1.train(model_data[C:D])\n",
        "    results.append(M.evaluate())"
      ],
      "execution_count": null,
      "outputs": []
    },
    {
      "cell_type": "code",
      "metadata": {
        "id": "AglPX7yzVrEt",
        "outputId": "6863a582-f5c8-4075-cc2d-5b821c862b67",
        "colab": {
          "base_uri": "https://localhost:8080/"
        }
      },
      "source": [
        "for i, result in enumerate(results):\n",
        "    print(f'Week {40+i+1}: {result}')"
      ],
      "execution_count": null,
      "outputs": [
        {
          "output_type": "stream",
          "text": [
            "Week 41: {'mse': 0.0, 'rmse': 135.95, 'mape': 6.45}\n",
            "Week 42: {'mse': 0.0, 'rmse': 135.95, 'mape': 6.45}\n",
            "Week 43: {'mse': 0.0, 'rmse': 135.95, 'mape': 6.45}\n",
            "Week 44: {'mse': 0.0, 'rmse': 135.95, 'mape': 6.45}\n",
            "Week 45: {'mse': 0.0, 'rmse': 135.95, 'mape': 6.45}\n",
            "Week 46: {'mse': 0.0, 'rmse': 135.95, 'mape': 6.45}\n",
            "Week 47: {'mse': 0.0, 'rmse': 135.95, 'mape': 6.45}\n",
            "Week 48: {'mse': 0.0, 'rmse': 135.95, 'mape': 6.45}\n",
            "Week 49: {'mse': 0.0, 'rmse': 135.95, 'mape': 6.45}\n",
            "Week 50: {'mse': 0.0, 'rmse': 135.95, 'mape': 6.45}\n"
          ],
          "name": "stdout"
        }
      ]
    },
    {
      "cell_type": "code",
      "metadata": {
        "id": "zotWoOS2VrHC",
        "outputId": "20183dc6-a668-46bd-a2ba-2a06ddeb112f",
        "colab": {
          "base_uri": "https://localhost:8080/"
        }
      },
      "source": [
        "M1.predict(denormalized=True)"
      ],
      "execution_count": null,
      "outputs": [
        {
          "output_type": "execute_result",
          "data": {
            "text/plain": [
              "array([1417.6115, 1099.9956, 1291.3898, 1435.3121, 1517.3317, 1438.11  ,\n",
              "       1364.6123], dtype=float32)"
            ]
          },
          "metadata": {
            "tags": []
          },
          "execution_count": 60
        }
      ]
    },
    {
      "cell_type": "code",
      "metadata": {
        "id": "piL9T8LOYmVp"
      },
      "source": [
        "old_data = model_data[0*7:7*48 + 7]"
      ],
      "execution_count": null,
      "outputs": []
    },
    {
      "cell_type": "code",
      "metadata": {
        "id": "nELL15H_Ymdp"
      },
      "source": [
        "new_data = model_data[0*7:7*49 + 7]"
      ],
      "execution_count": null,
      "outputs": []
    },
    {
      "cell_type": "code",
      "metadata": {
        "id": "SzBoq4-mYwJT"
      },
      "source": [
        "M2 = Model(data=old_data,\n",
        "          variable='close',\n",
        "          predicted_period_size=7)"
      ],
      "execution_count": null,
      "outputs": []
    },
    {
      "cell_type": "code",
      "metadata": {
        "id": "WLDkN7ozYwME",
        "outputId": "6e5230e1-e3c4-45eb-c8bf-d92f6ce74d50",
        "colab": {
          "base_uri": "https://localhost:8080/"
        }
      },
      "source": [
        "M2.build()\n",
        "M1.train()"
      ],
      "execution_count": null,
      "outputs": [
        {
          "output_type": "execute_result",
          "data": {
            "text/plain": [
              "<tensorflow.python.keras.callbacks.History at 0x7f62e89d3b70>"
            ]
          },
          "metadata": {
            "tags": []
          },
          "execution_count": 64
        }
      ]
    },
    {
      "cell_type": "code",
      "metadata": {
        "id": "jOQa7SYaYwOQ",
        "outputId": "01cf0796-6fd2-432e-baf4-678f07f382f0",
        "colab": {
          "base_uri": "https://localhost:8080/"
        }
      },
      "source": [
        "M2.predict(denormalized=True)"
      ],
      "execution_count": null,
      "outputs": [
        {
          "output_type": "execute_result",
          "data": {
            "text/plain": [
              "array([1341.4282, 1403.5406, 1439.067 , 1421.0482, 1428.667 , 1459.4664,\n",
              "       1369.9766], dtype=float32)"
            ]
          },
          "metadata": {
            "tags": []
          },
          "execution_count": 65
        }
      ]
    },
    {
      "cell_type": "code",
      "metadata": {
        "id": "niP7TcHJY270"
      },
      "source": [
        "#\n",
        "#  Re-instantiate the model with the Model()\n",
        "#  class using the new_data variable instead\n",
        "#  of the old_data one. \n",
        "M3 = Model(data=new_data,\n",
        "          variable='close',\n",
        "          predicted_period_size=7)\n"
      ],
      "execution_count": null,
      "outputs": []
    },
    {
      "cell_type": "code",
      "metadata": {
        "id": "3QKcvvusY2-O",
        "outputId": "e84296e9-86a3-4c9c-cc18-8b14e4901234",
        "colab": {
          "base_uri": "https://localhost:8080/"
        }
      },
      "source": [
        "M3.build()\n",
        "M3.train()"
      ],
      "execution_count": null,
      "outputs": [
        {
          "output_type": "execute_result",
          "data": {
            "text/plain": [
              "<tensorflow.python.keras.callbacks.History at 0x7f62e88167b8>"
            ]
          },
          "metadata": {
            "tags": []
          },
          "execution_count": 67
        }
      ]
    },
    {
      "cell_type": "code",
      "metadata": {
        "id": "DhN6VxkRZFcs",
        "outputId": "89645d94-0769-4093-bbfd-730b39631691",
        "colab": {
          "base_uri": "https://localhost:8080/"
        }
      },
      "source": [
        "M3.predict(denormalized=True)"
      ],
      "execution_count": null,
      "outputs": [
        {
          "output_type": "execute_result",
          "data": {
            "text/plain": [
              "array([1419.0831, 1088.8304, 1288.9437, 1437.4011, 1518.0774, 1435.1112,\n",
              "       1360.6754], dtype=float32)"
            ]
          },
          "metadata": {
            "tags": []
          },
          "execution_count": 69
        }
      ]
    }
  ]
}